{
 "cells": [
  {
   "cell_type": "markdown",
   "metadata": {},
   "source": [
    "# Face Masks Exploratory Data Analysis and Visualization\n",
    "\n",
    "## Introduction\n",
    "\n",
    "This notebook contains the analysis of face mask products and customer reviews data to provide insights to a manufacturer of personal care products. The objective is to understand the market competition, customer preferences, and segments to improve marketing strategy and R&D initiatives."
   ]
  },
  {
   "cell_type": "code",
   "execution_count": null,
   "metadata": {},
   "outputs": [],
   "source": [
    "# Import necessary libraries\n",
    "import pandas as pd\n",
    "import numpy as np\n",
    "import matplotlib.pyplot as plt\n",
    "import seaborn as sns\n",
    "import re\n",
    "from datetime import datetime\n",
    "import nltk\n",
    "from nltk.corpus import stopwords\n",
    "from nltk.tokenize import word_tokenize\n",
    "from nltk.sentiment import SentimentIntensityAnalyzer\n",
    "from wordcloud import WordCloud\n",
    "\n",
    "# Set visualization style\n",
    "plt.style.use('seaborn-whitegrid')\n",
    "sns.set_palette('viridis')\n",
    "\n",
    "# Configure plot settings\n",
    "plt.rcParams['figure.figsize'] = (12, 8)\n",
    "plt.rcParams['font.size'] = 12\n",
    "\n",
    "# Download necessary NLTK resources\n",
    "try:\n",
    "    nltk.data.find('tokenizers/punkt')\n",
    "except LookupError:\n",
    "    nltk.download('punkt')\n",
    "try:\n",
    "    nltk.data.find('corpora/stopwords')\n",
    "except LookupError:\n",
    "    nltk.download('stopwords')\n",
    "try:\n",
    "    nltk.data.find('sentiment/vader_lexicon')\n",
    "except LookupError:\n",
    "    nltk.download('vader_lexicon')"
   ]
  },
  {
   "cell_type": "markdown",
   "metadata": {},
   "source": [
    "## Data Loading and Initial Exploration"
   ]
  },
  {
   "cell_type": "code",
   "execution_count": null,
   "metadata": {},
   "outputs": [],
   "source": [
    "# Load the data\n",
    "products_df = pd.read_csv('products.tsv', sep='\\t')\n",
    "reviews_df = pd.read_csv('reviews.tsv', sep='\\t')\n",
    "\n",
    "# Display basic information about the datasets\n",
    "print(\"Products dataset shape:\", products_df.shape)\n",
    "print(\"Reviews dataset shape:\", reviews_df.shape)\n",
    "\n",
    "# Show the first few rows of each dataset\n",
    "print(\"\\nProducts dataset head:\")\n",
    "products_df.head()"
   ]
  },
  {
   "cell_type": "code",
   "execution_count": null,
   "metadata": {},
   "outputs": [],
   "source": [
    "# Examine reviews dataset\n",
    "print(\"\\nReviews dataset head:\")\n",
    "reviews_df.head()"
   ]
  },
  {
   "cell_type": "code",
   "execution_count": null,
   "metadata": {},
   "outputs": [],
   "source": [
    "# Check for missing values in both datasets\n",
    "print(\"Missing values in products dataset:\")\n",
    "print(products_df.isnull().sum())\n",
    "\n",
    "print(\"\\nMissing values in reviews dataset:\")\n",
    "print(reviews_df.isnull().sum())"
   ]
  },
  {
   "cell_type": "markdown",
   "metadata": {},
   "source": [
    "## Data Cleaning and Preparation"
   ]
  },
  {
   "cell_type": "code",
   "execution_count": null,
   "metadata": {},
   "outputs": [],
   "source": [
    "# Clean the product price column\n",
    "products_df['product_price'] = pd.to_numeric(products_df['product_price'], errors='coerce')\n",
    "\n",
    "# Create a standardized rating column in reviews\n",
    "# The ratingValue seems to be on a 10-50 scale (10=1 star, 20=2 stars, etc.)\n",
    "reviews_df['rating_stars'] = reviews_df['ratingValue'] / 10\n",
    "\n",
    "# Convert postedDate to datetime\n",
    "reviews_df['postedDate'] = pd.to_datetime(reviews_df['postedDate'], errors='coerce')\n",
    "\n",
    "# Extract product type from product name\n",
    "def extract_mask_type(name):\n",
    "    name = name.lower()\n",
    "    if 'kn95' in name or 'n95' in name or 'ffp2' in name or 'kf94' in name or 'respirator' in name:\n",
    "        return 'Respirator'\n",
    "    elif 'cotton' in name or 'reusable' in name or 'cloth' in name:\n",
    "        return 'Cloth/Reusable'\n",
    "    elif 'disposable' in name:\n",
    "        return 'Disposable'\n",
    "    elif 'copper' in name:\n",
    "        return 'Copper'\n",
    "    elif 'nano' in name:\n",
    "        return 'Nano Technology'\n",
    "    elif 'filter' in name:\n",
    "        return 'Filter'\n",
    "    else:\n",
    "        return 'Other'\n",
    "\n",
    "products_df['mask_type'] = products_df['product_name'].apply(extract_mask_type)\n",
    "\n",
    "# Extract other product features\n",
    "def extract_pack_size(name):\n",
    "    # Try to find patterns like \"10 Pack\", \"5 Count\", etc.\n",
    "    patterns = [r'(\\d+)\\s+Pack', r'(\\d+)\\s+Count', r'(\\d+)\\s+Masks?', r'(\\d+)\\s+Mask']\n",
    "    for pattern in patterns:\n",
    "        match = re.search(pattern, name, re.IGNORECASE)\n",
    "        if match:\n",
    "            return int(match.group(1))\n",
    "    # Default to 1 if no pack size found\n",
    "    return 1\n",
    "\n",
    "products_df['pack_size'] = products_df['product_name'].apply(extract_pack_size)\n",
    "\n",
    "# Calculate price per mask\n",
    "products_df['price_per_mask'] = products_df['product_price'] / products_df['pack_size']\n",
    "\n",
    "# Extract language information from reviews\n",
    "reviews_df['review_language'] = reviews_df['languageCode'].apply(lambda x: x.split('-')[0] if isinstance(x, str) else 'unknown')"
   ]
  },
  {
   "cell_type": "markdown",
   "metadata": {},
   "source": [
    "## Analysis of Product Features and Pricing"
   ]
  },
  {
   "cell_type": "code",
   "execution_count": null,
   "metadata": {},
   "outputs": [],
   "source": [
    "# Distribution of mask types\n",
    "plt.figure(figsize=(10, 6))\n",
    "mask_type_counts = products_df['mask_type'].value_counts()\n",
    "sns.barplot(x=mask_type_counts.index, y=mask_type_counts.values)\n",
    "plt.title('Distribution of Face Mask Types')\n",
    "plt.ylabel('Count')\n",
    "plt.xticks(rotation=45)\n",
    "plt.tight_layout()\n",
    "plt.show()"
   ]
  },
  {
   "cell_type": "code",
   "execution_count": null,
   "metadata": {},
   "outputs": [],
   "source": [
    "# Analyze price distribution by mask type\n",
    "plt.figure(figsize=(12, 6))\n",
    "sns.boxplot(x='mask_type', y='price_per_mask', data=products_df)\n",
    "plt.title('Price per Mask by Mask Type')\n",
    "plt.ylabel('Price per Mask (AUD)')\n",
    "plt.xticks(rotation=45)\n",
    "plt.tight_layout()\n",
    "plt.show()"
   ]
  },
  {
   "cell_type": "code",
   "execution_count": null,
   "metadata": {},
   "outputs": [],
   "source": [
    "# Calculate average ratings per product\n",
    "product_ratings = reviews_df.groupby('productId')['rating_stars'].agg(['mean', 'count']).reset_index()\n",
    "product_ratings.columns = ['product_id', 'avg_rating', 'review_count']\n",
    "\n",
    "# Merge with product information\n",
    "product_analysis = pd.merge(products_df, product_ratings, left_on='product_id', right_on='product_id', how='left')\n",
    "\n",
    "# Display the top-rated products\n",
    "top_rated = product_analysis.sort_values(by=['avg_rating', 'review_count'], ascending=False)\n",
    "top_rated = top_rated[top_rated['review_count'] > 5]  # Filter for products with more than 5 reviews\n",
    "top_rated[['product_id', 'product_name', 'product_price', 'price_currency', 'mask_type', 'avg_rating', 'review_count']].head(10)"
   ]
  },
  {
   "cell_type": "markdown",
   "metadata": {},
   "source": [
    "## Customer Reviews Analysis"
   ]
  },
  {
   "cell_type": "code",
   "execution_count": null,
   "metadata": {},
   "outputs": [],
   "source": [
    "# Analyze ratings distribution\n",
    "plt.figure(figsize=(10, 6))\n",
    "sns.countplot(data=reviews_df, x='rating_stars')\n",
    "plt.title('Distribution of Customer Ratings')\n",
    "plt.xlabel('Rating (Stars)')\n",
    "plt.ylabel('Count')\n",
    "plt.tight_layout()\n",
    "plt.show()"
   ]
  },
  {
   "cell_type": "code",
   "execution_count": null,
   "metadata": {},
   "outputs": [],
   "source": [
    "# Function to clean and prepare text for analysis\n",
    "def clean_text(text):\n",
    "    if isinstance(text, str):\n",
    "        # Convert to lowercase\n",
    "        text = text.lower()\n",
    "        # Remove special characters, numbers, etc.\n",
    "        text = re.sub(r'[^\\w\\s]', '', text)\n",
    "        # Tokenize\n",
    "        tokens = word_tokenize(text)\n",
    "        # Remove stopwords\n",
    "        stop_words = set(stopwords.words('english'))\n",
    "        tokens = [word for word in tokens if word not in stop_words]\n",
    "        return ' '.join(tokens)\n",
    "    return ''\n",
    "\n",
    "# Apply text cleaning to review text\n",
    "reviews_df['clean_review_text'] = reviews_df['reviewText'].apply(clean_text)\n",
    "\n",
    "# For non-English reviews, use the translated text if available\n",
    "mask = (reviews_df['review_language'] != 'en') & (~reviews_df['translation.reviewText'].isna())\n",
    "reviews_df.loc[mask, 'clean_review_text'] = reviews_df.loc[mask, 'translation.reviewText'].apply(clean_text)"
   ]
  },
  {
   "cell_type": "code",
   "execution_count": null,
   "metadata": {},
   "outputs": [],
   "source": [
    "# Perform sentiment analysis\n",
    "sia = SentimentIntensityAnalyzer()\n",
    "\n",
    "# Function to get sentiment scores\n",
    "def get_sentiment(text):\n",
    "    if isinstance(text, str) and text.strip():\n",
    "        return sia.polarity_scores(text)['compound']\n",
    "    return 0\n",
    "\n",
    "reviews_df['sentiment_score'] = reviews_df['clean_review_text'].apply(get_sentiment)\n",
    "\n",
    "# Group sentiment by mask type\n",
    "# First, we need to merge reviews with products\n",
    "reviews_with_product = pd.merge(reviews_df, products_df[['product_id', 'mask_type']], \n",
    "                               left_on='productId', right_on='product_id', how='left')\n",
    "\n",
    "# Now analyze sentiment by mask type\n",
    "sentiment_by_type = reviews_with_product.groupby('mask_type')['sentiment_score'].agg(['mean', 'count']).reset_index()\n",
    "sentiment_by_type.columns = ['mask_type', 'avg_sentiment', 'review_count']\n",
    "\n",
    "# Plot average sentiment by mask type\n",
    "plt.figure(figsize=(10, 6))\n",
    "sns.barplot(x='mask_type', y='avg_sentiment', data=sentiment_by_type, hue='review_count', dodge=False, palette='viridis')\n",
    "plt.title('Average Sentiment by Mask Type')\n",
    "plt.xlabel('Mask Type')\n",
    "plt.ylabel('Average Sentiment Score (-1 to 1)')\n",
    "plt.xticks(rotation=45)\n",
    "plt.tight_layout()\n",
    "plt.show()"
   ]
  },
  {
   "cell_type": "code",
   "execution_count": null,
   "metadata": {},
   "outputs": [],
   "source": [
    "# Create a word cloud of common terms in positive reviews\n",
    "positive_reviews = reviews_df[reviews_df['sentiment_score'] > 0.5]['clean_review_text']\n",
    "positive_text = ' '.join(positive_reviews.fillna(''))\n",
    "\n",
    "# Generate a word cloud for positive reviews\n",
    "plt.figure(figsize=(12, 8))\n",
    "wordcloud = WordCloud(width=800, height=400, background_color='white', colormap='viridis',\n",
    "                      max_words=100).generate(positive_text)\n",
    "plt.imshow(wordcloud, interpolation='bilinear')\n",
    "plt.title('Common Words in Positive Reviews')\n",
    "plt.axis('off')\n",
    "plt.tight_layout()\n",
    "plt.show()"
   ]
  },
  {
   "cell_type": "code",
   "execution_count": null,
   "metadata": {},
   "outputs": [],
   "source": [
    "# Create a word cloud of common terms in negative reviews\n",
    "negative_reviews = reviews_df[reviews_df['sentiment_score'] < -0.3]['clean_review_text']\n",
    "negative_text = ' '.join(negative_reviews.fillna(''))\n",
    "\n",
    "# Generate a word cloud for negative reviews\n",
    "plt.figure(figsize=(12, 8))\n",
    "wordcloud = WordCloud(width=800, height=400, background_color='white', colormap='magma',\n",
    "                      max_words=100).generate(negative_text)\n",
    "plt.imshow(wordcloud, interpolation='bilinear')\n",
    "plt.title('Common Words in Negative Reviews')\n",
    "plt.axis('off')\n",
    "plt.tight_layout()\n",
    "plt.show()"
   ]
  },
  {
   "cell_type": "markdown",
   "metadata": {},
   "source": [
    "## Consumer Segmentation Analysis"
   ]
  },
  {
   "cell_type": "code",
   "execution_count": null,
   "metadata": {},
   "outputs": [],
   "source": [
    "# Analyze review patterns by language/region\n",
    "language_stats = reviews_df.groupby('review_language').agg({\n",
    "    'rating_stars': 'mean',\n",
    "    'sentiment_score': 'mean',\n",
    "    'productId': 'count'\n",
    "}).reset_index()\n",
    "language_stats.columns = ['language', 'avg_rating', 'avg_sentiment', 'review_count']\n",
    "language_stats = language_stats.sort_values('review_count', ascending=False)\n",
    "\n",
    "# Plot average rating by language\n",
    "plt.figure(figsize=(12, 6))\n",
    "sns.barplot(x='language', y='avg_rating', data=language_stats.head(10), hue='review_count', dodge=False, palette='viridis')\n",
    "plt.title('Average Rating by Language/Region')\n",
    "plt.ylabel('Average Rating (Stars)')\n",
    "plt.xlabel('Language')\n",
    "plt.xticks(rotation=45)\n",
    "plt.tight_layout()\n",
    "plt.show()"
   ]
  },
  {
   "cell_type": "code",
   "execution_count": null,
   "metadata": {},
   "outputs": [],
   "source": [
    "# Identify different consumer segments based on their preferences\n",
    "# First, extract key features from reviews\n",
    "def has_keyword(text, keywords):\n",
    "    if isinstance(text, str):\n",
    "        text = text.lower()\n",
    "        return any(keyword in text for keyword in keywords)\n",
    "    return False\n",
    "\n",
    "# Define different consumer segments based on review content\n",
    "comfort_keywords = ['comfortable', 'soft', 'breathable', 'easy to breathe', 'breathe']\n",
    "protection_keywords = ['protection', 'safe', 'secure', 'sealed', 'filter', 'filtering']\n",
    "style_keywords = ['stylish', 'design', 'color', 'look', 'fashion', 'cute']\n",
    "fit_keywords = ['fit', 'size', 'large', 'small', 'tight', 'loose']\n",
    "price_keywords = ['price', 'expensive', 'cheap', 'worth', 'value']\n",
    "\n",
    "# Create segment flags\n",
    "reviews_df['comfort_focused'] = reviews_df['reviewText'].apply(lambda x: has_keyword(x, comfort_keywords))\n",
    "reviews_df['protection_focused'] = reviews_df['reviewText'].apply(lambda x: has_keyword(x, protection_keywords))\n",
    "reviews_df['style_focused'] = reviews_df['reviewText'].apply(lambda x: has_keyword(x, style_keywords))\n",
    "reviews_df['fit_focused'] = reviews_df['reviewText'].apply(lambda x: has_keyword(x, fit_keywords))\n",
    "reviews_df['price_focused'] = reviews_df['reviewText'].apply(lambda x: has_keyword(x, price_keywords))\n",
    "\n",
    "# Calculate the prevalence of each segment\n",
    "segment_counts = {\n",
    "    'Comfort Focused': reviews_df['comfort_focused'].sum(),\n",
    "    'Protection Focused': reviews_df['protection_focused'].sum(),\n",
    "    'Style Focused': reviews_df['style_focused'].sum(),\n",
    "    'Fit Focused': reviews_df['fit_focused'].sum(),\n",
    "    'Price Focused': reviews_df['price_focused'].sum()\n",
    "}\n",
    "\n",
    "# Plot segment distribution\n",
    "plt.figure(figsize=(10, 6))\n",
    "sns.barplot(x=list(segment_counts.keys()), y=list(segment_counts.values()))\n",
    "plt.title('Distribution of Consumer Segments')\n",
    "plt.ylabel('Count')\n",
    "plt.xticks(rotation=45)\n",
    "plt.tight_layout()\n",
    "plt.show()"
   ]
  },
  {
   "cell_type": "code",
   "execution_count": null,
   "metadata": {},
   "outputs": [],
   "source": [
    "# Analyze ratings by segment\n",
    "segment_ratings = {\n",
    "    'Comfort Focused': reviews_df[reviews_df['comfort_focused']]['rating_stars'].mean(),\n",
    "    'Protection Focused': reviews_df[reviews_df['protection_focused']]['rating_stars'].mean(),\n",
    "    'Style Focused': reviews_df[reviews_df['style_focused']]['rating_stars'].mean(),\n",
    "    'Fit Focused': reviews_df[reviews_df['fit_focused']]['rating_stars'].mean(),\n",
    "    'Price Focused': reviews_df[reviews_df['price_focused']]['rating_stars'].mean()\n",
    "}\n",
    "\n",
    "# Plot average ratings by segment\n",
    "plt.figure(figsize=(10, 6))\n",
    "sns.barplot(x=list(segment_ratings.keys()), y=list(segment_ratings.values()))\n",
    "plt.title('Average Ratings by Consumer Segment')\n",
    "plt.ylabel('Average Rating (Stars)')\n",
    "plt.xticks(rotation=45)\n",
    "plt.tight_layout()\n",
    "plt.show()"
   ]
  },
  {
   "cell_type": "markdown",
   "metadata": {},
   "source": [
    "## Key Findings and Recommendations\n",
    "\n",
    "Based on our analysis, we can draw the following insights and recommendations:\n",
    "\n",
    "1. **Most Popular Mask Types**: The analysis reveals that [to be filled based on results]\n",
    "\n",
    "2. **Key Features Valued by Consumers**: \n",
    "   - [to be filled based on results]\n",
    "   - [to be filled based on results]\n",
    "   \n",
    "3. **Consumer Segments**: We identified several distinct consumer segments with different priorities:\n",
    "   - [to be filled based on results]\n",
    "   - [to be filled based on results]\n",
    "   \n",
    "4. **Marketing Strategy Recommendations**:\n",
    "   - [to be filled based on results]\n",
    "   - [to be filled based on results]\n",
    "   \n",
    "5. **R&D Recommendations**:\n",
    "   - [to be filled based on results]\n",
    "   - [to be filled based on results]"
   ]
  },
  {
   "cell_type": "markdown",
   "metadata": {},
   "source": [
    "## Additional Insights from External Data\n",
    "\n",
    "To enhance our analysis, we could incorporate the following external data sources:\n",
    "\n",
    "1. **COVID-19 Statistics**: Regional infection rates could help understand market demand patterns.\n",
    "\n",
    "2. **Demographics**: Age, gender, and income data could provide insights into consumer segmentation.\n",
    "\n",
    "3. **Seasonal Data**: Weather patterns may affect mask preferences (breathability in summer vs. warmth in winter).\n",
    "\n",
    "4. **Competitive Analysis**: Price and feature data from other e-commerce platforms beyond iHerb.\n",
    "\n",
    "5. **Social Media Sentiment**: Analysis of mask discussions on platforms like Twitter or Instagram."
   ]
  },
  {
   "cell_type": "markdown",
   "metadata": {},
   "source": [
    "## Limitations and Future Improvements\n",
    "\n",
    "Our analysis faces several limitations that could be addressed in future work:\n",
    "\n",
    "1. **Limited Demographics**: We lack explicit user demographic information (age, gender, etc.).\n",
    "\n",
    "2. **Selection Bias**: Reviews represent only a subset of customers who chose to leave feedback.\n",
    "\n",
    "3. **Temporal Analysis**: A more detailed analysis of how preferences changed over time could be valuable.\n",
    "\n",
    "4. **Feature Extraction**: More sophisticated NLP techniques could better extract features from reviews.\n",
    "\n",
    "5. **Regional Specificity**: More granular regional analysis could reveal cultural preferences."
   ]
  }
 ],
 "metadata": {
  "language_info": {
   "name": "python"
  }
 },
 "nbformat": 4,
 "nbformat_minor": 2
}
